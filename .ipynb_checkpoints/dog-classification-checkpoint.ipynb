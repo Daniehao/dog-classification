{
 "cells": [
  {
   "cell_type": "markdown",
   "metadata": {},
   "source": [
    "# Import data"
   ]
  },
  {
   "cell_type": "code",
   "execution_count": 17,
   "metadata": {
    "collapsed": false
   },
   "outputs": [],
   "source": [
    "from sklearn.datasets import load_files\n",
    "from keras.utils import np_utils\n",
    "import numpy as np\n",
    "from glob import glob\n",
    "from sklearn.model_selection import train_test_split\n",
    "\n",
    "# define function to load train, test, and validation datasets\n",
    "def load_dataset(path):\n",
    "    data = load_files(path)\n",
    "    dog_files = np.array(data['filenames'])\n",
    "    dog_targets = np_utils.to_categorical(np.array(data['target']), 120)\n",
    "    x_train, x_left, y_train, y_left = train_test_split(dog_files, dog_targets, test_size=0.3, random_state=42)\n",
    "    x_test, x_valid, y_test, y_valid = train_test_split(x_left,y_left, test_size=0.4,random_state=50)\n",
    "    return x_train,x_test,x_valid, y_train,y_test,y_valid, dog_files, dog_targets\n",
    "\n",
    "# load train, test, and validation datasets\n",
    "x_train,x_test,x_valid, y_train,y_test,y_valid,dog_files, dog_targets = load_dataset('images')"
   ]
  },
  {
   "cell_type": "code",
   "execution_count": 24,
   "metadata": {
    "collapsed": false
   },
   "outputs": [
    {
     "name": "stdout",
     "output_type": "stream",
     "text": [
      "-----------------------------------\n",
      "There are 120 total dog categories.\n",
      "There are 20580 total dog images.\n",
      "\tThere are 14406 total training files.\n",
      "\tThere are 3704 total testing files.\n",
      "\tThere are 2470 total valid files.\n"
     ]
    }
   ],
   "source": [
    "# load list of dog names\n",
    "dog_names = [item[17:] for item in sorted(glob(\"images/*\"))]\n",
    "\n",
    "# print statistics about the dataset\n",
    "print('-----------------------------------')\n",
    "print('There are %d total dog categories.' % len(dog_names))\n",
    "print('There are %d total dog images.' % len(all_files))\n",
    "print('\\tThere are %d total training files.' % len(x_train))\n",
    "print('\\tThere are %d total testing files.' % len(x_test))\n",
    "print('\\tThere are %d total valid files.' % len(x_valid))\n",
    "assert(len(all_files) == (len(x_train) + len(x_test) + len(x_valid)))"
   ]
  },
  {
   "cell_type": "code",
   "execution_count": 15,
   "metadata": {
    "collapsed": false
   },
   "outputs": [
    {
     "name": "stdout",
     "output_type": "stream",
     "text": [
      "['images/n02108422-bull_mastiff/n02108422_5444.jpg'\n",
      " 'images/n02105855-Shetland_sheepdog/n02105855_3168.jpg'\n",
      " 'images/n02089078-black-and-tan_coonhound/n02089078_2106.jpg' ...,\n",
      " 'images/n02111889-Samoyed/n02111889_4353.jpg'\n",
      " 'images/n02105412-kelpie/n02105412_1952.jpg'\n",
      " 'images/n02085782-Japanese_spaniel/n02085782_2939.jpg']\n",
      "13788\n",
      "13788\n",
      "6792\n",
      "20580\n",
      "20580\n"
     ]
    }
   ],
   "source": []
  },
  {
   "cell_type": "code",
   "execution_count": null,
   "metadata": {
    "collapsed": true
   },
   "outputs": [],
   "source": []
  }
 ],
 "metadata": {
  "kernelspec": {
   "display_name": "Python 3",
   "language": "python",
   "name": "python3"
  },
  "language_info": {
   "codemirror_mode": {
    "name": "ipython",
    "version": 3
   },
   "file_extension": ".py",
   "mimetype": "text/x-python",
   "name": "python",
   "nbconvert_exporter": "python",
   "pygments_lexer": "ipython3",
   "version": "3.6.1"
  }
 },
 "nbformat": 4,
 "nbformat_minor": 2
}

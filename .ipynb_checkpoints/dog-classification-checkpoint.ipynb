{
 "cells": [
  {
   "cell_type": "markdown",
   "metadata": {},
   "source": [
    "# Import dog data from Stanford ImageNet dataset"
   ]
  },
  {
   "cell_type": "code",
   "execution_count": 1,
   "metadata": {
    "collapsed": false
   },
   "outputs": [
    {
     "name": "stderr",
     "output_type": "stream",
     "text": [
      "Using TensorFlow backend.\n"
     ]
    }
   ],
   "source": [
    "from sklearn.datasets import load_files\n",
    "from keras.utils import np_utils\n",
    "import numpy as np\n",
    "from glob import glob\n",
    "from sklearn.model_selection import train_test_split\n",
    "\n",
    "# define function to load train, test, and validation datasets\n",
    "def load_dataset(path):\n",
    "    data = load_files(path)\n",
    "    dog_files = np.array(data['filenames'])\n",
    "    dog_targets = np_utils.to_categorical(np.array(data['target']), 120)\n",
    "    x_train, x_left, y_train, y_left = train_test_split(dog_files, dog_targets, test_size=0.3, random_state=42)\n",
    "    x_test, x_valid, y_test, y_valid = train_test_split(x_left,y_left, test_size=0.4,random_state=50)\n",
    "    return x_train,x_test,x_valid, y_train,y_test,y_valid, dog_files, dog_targets\n",
    "\n",
    "# load train, test, and validation datasets\n",
    "x_train,x_test,x_valid, y_train,y_test,y_valid,dog_files, dog_targets = load_dataset('images')"
   ]
  },
  {
   "cell_type": "code",
   "execution_count": 4,
   "metadata": {
    "collapsed": false
   },
   "outputs": [
    {
     "name": "stdout",
     "output_type": "stream",
     "text": [
      "-----------------------------------\n",
      "There are 120 total dog categories.\n",
      "There are 20580 total dog images.\n",
      "\tThere are 14406 total training files.\n",
      "\tThere are 3704 total testing files.\n",
      "\tThere are 2470 total valid files.\n"
     ]
    }
   ],
   "source": [
    "# load list of dog names\n",
    "dog_names = [item[17:] for item in sorted(glob(\"images/*\"))]\n",
    "\n",
    "# print statistics about the dataset\n",
    "print('-----------------------------------')\n",
    "print('There are %d total dog categories.' % len(dog_names))\n",
    "print('There are %d total dog images.' % len(dog_files))\n",
    "print('\\tThere are %d total training files.' % len(x_train))\n",
    "print('\\tThere are %d total testing files.' % len(x_test))\n",
    "print('\\tThere are %d total valid files.' % len(x_valid))\n",
    "assert(len(dog_files) == (len(x_train) + len(x_test) + len(x_valid)))"
   ]
  },
  {
   "cell_type": "markdown",
   "metadata": {},
   "source": [
    "## Step 1: Detect Humans"
   ]
  },
  {
   "cell_type": "markdown",
   "metadata": {},
   "source": [
    "### Assess the Human Face Detector"
   ]
  },
  {
   "cell_type": "code",
   "execution_count": 5,
   "metadata": {
    "collapsed": false
   },
   "outputs": [
    {
     "name": "stdout",
     "output_type": "stream",
     "text": [
      "There are 13233 total human images.\n"
     ]
    },
    {
     "ename": "NameError",
     "evalue": "name 'human_files' is not defined",
     "output_type": "error",
     "traceback": [
      "\u001b[0;31m---------------------------------------------------------------------------\u001b[0m",
      "\u001b[0;31mNameError\u001b[0m                                 Traceback (most recent call last)",
      "\u001b[0;32m<ipython-input-5-3fa0e74fc475>\u001b[0m in \u001b[0;36m<module>\u001b[0;34m()\u001b[0m\n\u001b[1;32m      1\u001b[0m \u001b[0;32mfrom\u001b[0m \u001b[0mhuman\u001b[0m \u001b[0;32mimport\u001b[0m \u001b[0mhuman_face_detector\u001b[0m\u001b[0;34m\u001b[0m\u001b[0m\n\u001b[1;32m      2\u001b[0m \u001b[0;34m\u001b[0m\u001b[0m\n\u001b[0;32m----> 3\u001b[0;31m \u001b[0mhuman_files_short\u001b[0m \u001b[0;34m=\u001b[0m \u001b[0mhuman_files\u001b[0m\u001b[0;34m[\u001b[0m\u001b[0;34m:\u001b[0m\u001b[0;36m100\u001b[0m\u001b[0;34m]\u001b[0m\u001b[0;34m\u001b[0m\u001b[0m\n\u001b[0m\u001b[1;32m      4\u001b[0m \u001b[0mdog_files_short\u001b[0m \u001b[0;34m=\u001b[0m \u001b[0mx_train\u001b[0m\u001b[0;34m[\u001b[0m\u001b[0;34m:\u001b[0m\u001b[0;36m100\u001b[0m\u001b[0;34m]\u001b[0m\u001b[0;34m\u001b[0m\u001b[0m\n\u001b[1;32m      5\u001b[0m \u001b[0;31m# Do NOT modify the code above this line.\u001b[0m\u001b[0;34m\u001b[0m\u001b[0;34m\u001b[0m\u001b[0m\n",
      "\u001b[0;31mNameError\u001b[0m: name 'human_files' is not defined"
     ]
    }
   ],
   "source": [
    "from human import human_face_detector\n",
    "import random\n",
    "\n",
    "random.seed(86709)\n",
    "\n",
    "# load filenames in shuffled human dataset\n",
    "human_files = np.array(glob(\"lfw/*/*\"))\n",
    "random.shuffle(human_files)\n",
    "\n",
    "# print statistics about the dataset\n",
    "print('There are %d total human images.' % len(human_files))\n",
    "\n",
    "human_files_short = human_files[:100]\n",
    "dog_files_short = x_train[:100]\n",
    "# Do NOT modify the code above this line.\n",
    "\n",
    "## TODO: Test the performance of the face_detector algorithm \n",
    "## on the images in human_files_short and dog_files_short.\n",
    "results_human = [face for face in human_files_short if face_detector(face)]\n",
    "results_dog = [face for face in dog_files_short if face_detector(face)]\n",
    "print(\"human faces that contain human_face : {}%\".format(len(results_human)))\n",
    "print(\"dog faces that contain human_face : {}%\".format(len(results_dog)))"
   ]
  },
  {
   "cell_type": "markdown",
   "metadata": {},
   "source": [
    "## Step 2: Detect Dogs"
   ]
  },
  {
   "cell_type": "markdown",
   "metadata": {},
   "source": [
    "### Assess the Dog Detector"
   ]
  },
  {
   "cell_type": "code",
   "execution_count": null,
   "metadata": {
    "collapsed": false
   },
   "outputs": [],
   "source": [
    "%matplotlib inline \n",
    "from dog import dog_detector\n",
    "\n",
    "### Test the performance of the dog_detector function\n",
    "### on the images in human_files_short and dog_files_short.\n",
    "results_human = [face for face in human_files_short if dog_detector(face)]\n",
    "results_dog = [face for face in dog_files_short if dog_detector(face)]\n",
    "print(\"human faces that contain dog_face : {}%\".format(len(results_human)))\n",
    "print(\"dog faces that contain dog_face : {}%\".format(len(results_dog)))"
   ]
  },
  {
   "cell_type": "code",
   "execution_count": null,
   "metadata": {
    "collapsed": true
   },
   "outputs": [],
   "source": []
  }
 ],
 "metadata": {
  "kernelspec": {
   "display_name": "Python 3",
   "language": "python",
   "name": "python3"
  },
  "language_info": {
   "codemirror_mode": {
    "name": "ipython",
    "version": 3
   },
   "file_extension": ".py",
   "mimetype": "text/x-python",
   "name": "python",
   "nbconvert_exporter": "python",
   "pygments_lexer": "ipython3",
   "version": "3.6.1"
  }
 },
 "nbformat": 4,
 "nbformat_minor": 2
}
